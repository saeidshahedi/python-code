{
 "cells": [
  {
   "cell_type": "markdown",
   "metadata": {},
   "source": [
    "# Tic - Tac - Toe project"
   ]
  },
  {
   "cell_type": "code",
   "execution_count": null,
   "metadata": {},
   "outputs": [],
   "source": [
    "from IPython.display import clear_output"
   ]
  },
  {
   "cell_type": "code",
   "execution_count": null,
   "metadata": {},
   "outputs": [],
   "source": [
    "board = {'9': ' ', '8': ' ', '7': ' ', '6': ' ', '5': ' ', '4': ' ', '3': ' ', '2': ' ', '1': ' '}\n",
    "board_keys = []\n",
    "for k in board:\n",
    "    board_keys.append(k)"
   ]
  },
  {
   "cell_type": "code",
   "execution_count": null,
   "metadata": {},
   "outputs": [],
   "source": [
    "def displayboard(board):\n",
    "    print('--------------')\n",
    "    print('|' + board['7'] + ' || ' + board['8'] + ' || ' + board['9'] + ' | ')\n",
    "    print('--------------')\n",
    "    print('|' + board['4'] + ' || ' + board['5'] + ' || ' + board['6'] + ' | ')\n",
    "    print('--------------')\n",
    "    print('|' + board['1'] + ' || ' + board['2'] + ' || ' + board['3'] + ' | ')\n",
    "    print('--------------')"
   ]
  },
  {
   "cell_type": "code",
   "execution_count": null,
   "metadata": {},
   "outputs": [],
   "source": [
    "def player_input():\n",
    "    player1 = input(\"Please choose between 'X' and 'O' : \")\n",
    "    while True:\n",
    "        if player1.upper() == 'X':\n",
    "            player2 = 'O'\n",
    "            print(\"You've chosen \" + player1 + \". Player 2 will be \" + player2)\n",
    "            return player1.upper(), player2\n",
    "        elif player1.upper() == 'O':\n",
    "            player2 = 'X'\n",
    "            print(\"You've chosen \" + player1 + \". Player 2 will be \" + player2)\n",
    "            return player1.upper(), player2\n",
    "        else:\n",
    "            player1 = input(\"Invalid input \\t Please just choose between 'X' and 'O' :\")"
   ]
  },
  {
   "cell_type": "code",
   "execution_count": null,
   "metadata": {},
   "outputs": [],
   "source": [
    "player_input()"
   ]
  },
  {
   "cell_type": "code",
   "execution_count": null,
   "metadata": {},
   "outputs": [],
   "source": [
    "def put_choise():\n",
    "     turn = 'X'\n",
    "     count = 0\n",
    "\n",
    "     for i in range(10):\n",
    "        displayboard(board)\n",
    "        print(\"It's your turn,\" + turn + \".Move to which place?\")\n",
    "        clear_output(wait=True)\n",
    "        move = input()        \n",
    "\n",
    "        if board[move] == ' ':\n",
    "            board[move] = turn\n",
    "            count += 1\n",
    "        else:\n",
    "            print(\"That place is already filled.\\nMove to which place?\")\n",
    "            continue\n",
    "        if turn =='X':\n",
    "            turn = 'O'\n",
    "        else:\n",
    "            turn = 'X' "
   ]
  },
  {
   "cell_type": "code",
   "execution_count": null,
   "metadata": {},
   "outputs": [],
   "source": [
    "put_choise()"
   ]
  },
  {
   "cell_type": "code",
   "execution_count": null,
   "metadata": {},
   "outputs": [],
   "source": [
    "def game():\n",
    "    if player_input() == 'x':\n",
    "        turn = 'X'\n",
    "        count = 0\n",
    "    else:\n",
    "        turn = 'O'\n",
    "        count = 0\n",
    "    for i in range(10):\n",
    "        displayboard(board)\n",
    "        print(\"It's your turn,\" + turn + \".Move to which place?\")\n",
    "        clear_output(wait=True)\n",
    "        move = input()\n",
    "\n",
    "        if board[move] == ' ':\n",
    "            board[move] = turn\n",
    "            count += 1\n",
    "\n",
    "        else:\n",
    "            print(\"That place is already filled.\\nMove to which place?\")\n",
    "            continue\n",
    "\n",
    "        if count >= 5:\n",
    "            if board['7'] == board['8'] == board['9'] != ' ':\n",
    "                displayboard(board)\n",
    "                print(\"\\nGame Over.\\n\")\n",
    "                print(\" **** \" + turn + \" won. ****\")\n",
    "                break\n",
    "            elif board['4'] == board['5'] == board['6'] != ' ':\n",
    "                displayboard(board)\n",
    "                print(\"\\nGame Over.\\n\")\n",
    "                print(\" **** \" + turn + \" won. ****\")\n",
    "                break\n",
    "            elif board['1'] == board['2'] == board['3'] != ' ':\n",
    "                displayboard(board)\n",
    "                print(\"\\nGame Over.\\n\")\n",
    "                print(\" **** \" + turn + \" won. ****\")\n",
    "                break\n",
    "            elif board['1'] == board['4'] == board['7'] != ' ':\n",
    "                displayboard(board)\n",
    "                print(\"\\nGame Over.\\n\")\n",
    "                print(\" **** \" + turn + \" won. ****\")\n",
    "                break\n",
    "            elif board['2'] == board['5'] == board['8'] != ' ':\n",
    "                displayboard(board)\n",
    "                print(\"\\nGame Over.\\n\")\n",
    "                print(\" **** \" + turn + \" won. ****\")\n",
    "                break\n",
    "            elif board['3'] == board['6'] == board['9'] != ' ':\n",
    "                displayboard(board)\n",
    "                print(\"\\nGame Over.\\n\")\n",
    "                print(\" **** \" + turn + \" won. ****\")\n",
    "                break\n",
    "            elif board['7'] == board['5'] == board['3'] != ' ':\n",
    "                displayboard(board)\n",
    "                print(\"\\nGame Over.\\n\")\n",
    "                print(\" **** \" + turn + \" won. ****\")\n",
    "                break\n",
    "            elif board['1'] == board['5'] == board['9'] != ' ':\n",
    "                displayboard(board)\n",
    "                print(\"\\nGame Over.\\n\")\n",
    "                print(\" **** \" + turn + \" won. ****\")\n",
    "                break"
   ]
  },
  {
   "cell_type": "code",
   "execution_count": null,
   "metadata": {},
   "outputs": [],
   "source": [
    "game()"
   ]
  },
  {
   "cell_type": "code",
   "execution_count": null,
   "metadata": {},
   "outputs": [],
   "source": [
    "import random\n",
    "def choose_first():\n",
    "    player_list =[\"player1\",\"player2\"]\n",
    "    turn = random.randint(0,1)\n",
    "    return player_list[turn]"
   ]
  },
  {
   "cell_type": "code",
   "execution_count": null,
   "metadata": {},
   "outputs": [],
   "source": [
    "choose_first()"
   ]
  },
  {
   "cell_type": "code",
   "execution_count": null,
   "metadata": {},
   "outputs": [],
   "source": [
    "def space_check(board,position):\n",
    "    board = ['1','2','3','4','5','6','7','8','9']\n",
    "    dictionary = dict(zip(board , board))\n",
    "    if  dictionary[str(position)] !='' :\n",
    "        return False"
   ]
  },
  {
   "cell_type": "code",
   "execution_count": null,
   "metadata": {},
   "outputs": [],
   "source": [
    "def full_board_check(board):\n",
    "        if '' in board :\n",
    "            return True\n",
    "        else :\n",
    "            return False"
   ]
  },
  {
   "cell_type": "code",
   "execution_count": null,
   "metadata": {},
   "outputs": [],
   "source": [
    "space_check(board,2)"
   ]
  },
  {
   "cell_type": "code",
   "execution_count": null,
   "metadata": {},
   "outputs": [],
   "source": [
    "def player_choice():\n",
    "    print(\"Please enter your number :\")\n",
    "    a = int(input())\n",
    "    while int(a) <= 9 :\n",
    "        return(a)\n",
    "    else :\n",
    "        print(\"Wrong number.\")"
   ]
  },
  {
   "cell_type": "code",
   "execution_count": null,
   "metadata": {},
   "outputs": [],
   "source": [
    "player_choice()"
   ]
  },
  {
   "cell_type": "code",
   "execution_count": null,
   "metadata": {},
   "outputs": [],
   "source": [
    "displayboard(board)"
   ]
  },
  {
   "cell_type": "code",
   "execution_count": null,
   "metadata": {},
   "outputs": [],
   "source": [
    "def reset():\n",
    "    restart = input(\"Do you want to play Again?(y/n)\").lower()\n",
    "    if restart == \"y\" or restart == \"Y\":  \n",
    "        for key in board_keys:\n",
    "            board[key] = \" \"\n",
    "    elif restart == \"n\" :\n",
    "        print(\"Thank you for choosing our game. \\n we wish see you soon again\")\n",
    "    else:\n",
    "        print(\"Invalid input\")\n",
    "        game()"
   ]
  },
  {
   "cell_type": "code",
   "execution_count": null,
   "metadata": {},
   "outputs": [],
   "source": [
    "reset()"
   ]
  },
  {
   "cell_type": "code",
   "execution_count": null,
   "metadata": {},
   "outputs": [],
   "source": [
    "# This game is written by : Saeid Shahedi\n",
    "import random\n",
    "from IPython.display import clear_output\n",
    "\n",
    "board = {'9': ' ', '8': ' ', '7': ' ', '6': ' ', '5': ' ', '4': ' ', '3': ' ', '2': ' ', '1': ' '}\n",
    "board_keys = []\n",
    "for k in board:\n",
    "    board_keys.append(k)\n",
    "\n",
    "\n",
    "def displayboard(board):\n",
    "    print('--------------')\n",
    "    print('|' + board['7'] + ' || ' + board['8'] + ' || ' + board['9'] + ' | ')\n",
    "    print('--------------')\n",
    "    print('|' + board['4'] + ' || ' + board['5'] + ' || ' + board['6'] + ' | ')\n",
    "    print('--------------')\n",
    "    print('|' + board['1'] + ' || ' + board['2'] + ' || ' + board['3'] + ' | ')\n",
    "    print('--------------')\n",
    "\n",
    "\n",
    "def choose_first():\n",
    "    player_list = [\"player1\", \"player2\"]\n",
    "    turn = random.randint(0, 1)\n",
    "    return player_list[turn]\n",
    "\n",
    "\n",
    "def player_input():\n",
    "    player1 = input(\"Please choose between 'X' and 'O' : \")\n",
    "    while True:\n",
    "        if player1.upper() == 'X':\n",
    "            player2 = 'O'\n",
    "            print(\"You've chosen \" + player1 + \". Player 2 will be \" + player2)\n",
    "            return player1.upper(), player2\n",
    "        elif player1.upper() == 'O':\n",
    "            player2 = 'X'\n",
    "            print(\"You've chosen \" + player1 + \". Player 2 will be \" + player2)\n",
    "            return player1.upper(), player2\n",
    "        else:\n",
    "            player1 = input(\"Invalid input \\t Please just choose between 'X' and 'O' :\")\n",
    "\n",
    "\n",
    "def game():\n",
    "    player = player_input()\n",
    "    if player[0] == 'X':\n",
    "        turn = 'X'\n",
    "        count = 0\n",
    "    else:\n",
    "        turn = 'O'\n",
    "        count = 0\n",
    "    for i in range(10):\n",
    "        displayboard(board)\n",
    "        print(\"It's your turn,\" + turn + \".Move to which place?\")\n",
    "        clear_output(wait=True)\n",
    "        move = input()\n",
    "\n",
    "        try:\n",
    "            if board[move] == ' ':\n",
    "                board[move] = turn\n",
    "                count += 1\n",
    "\n",
    "            else:\n",
    "                print(\"That place is already filled.\\nMove to which place?\")\n",
    "                continue\n",
    "        except:\n",
    "            print(\"Wrong input \\n please only enter the number between (1-9)\")\n",
    "        if count >= 5:\n",
    "            if board['7'] == board['8'] == board['9'] != ' ':\n",
    "                displayboard(board)\n",
    "                print(\"\\nGame Over.\\n\")\n",
    "                print(\" ** \" + turn + \" won. **\")\n",
    "                break\n",
    "            elif board['4'] == board['5'] == board['6'] != ' ':\n",
    "                displayboard(board)\n",
    "                print(\"\\nGame Over.\\n\")\n",
    "                print(\" ** \" + turn + \" won. **\")\n",
    "                break\n",
    "            elif board['1'] == board['2'] == board['3'] != ' ':\n",
    "                displayboard(board)\n",
    "                print(\"\\nGame Over.\\n\")\n",
    "                print(\" ** \" + turn + \" won. **\")\n",
    "                break\n",
    "            elif board['1'] == board['4'] == board['7'] != ' ':\n",
    "                displayboard(board)\n",
    "                print(\"\\nGame Over.\\n\")\n",
    "                print(\" ** \" + turn + \" won. **\")\n",
    "                break\n",
    "            elif board['2'] == board['5'] == board['8'] != ' ':\n",
    "                displayboard(board)\n",
    "                print(\"\\nGame Over.\\n\")\n",
    "                print(\" ** \" + turn + \" won. **\")\n",
    "                break\n",
    "            elif board['3'] == board['6'] == board['9'] != ' ':\n",
    "                displayboard(board)\n",
    "                print(\"\\nGame Over.\\n\")\n",
    "                print(\" ** \" + turn + \" won. **\")\n",
    "                break\n",
    "            elif board['7'] == board['5'] == board['3'] != ' ':\n",
    "                displayboard(board)\n",
    "                print(\"\\nGame Over.\\n\")\n",
    "                print(\" ** \" + turn + \" won. **\")\n",
    "                break\n",
    "            elif board['1'] == board['5'] == board['9'] != ' ':\n",
    "                displayboard(board)\n",
    "                print(\"\\nGame Over.\\n\")\n",
    "                print(\" ** \" + turn + \" won. **\")\n",
    "                break\n",
    "        # Draw condition\n",
    "        if count == 9:\n",
    "            print(\"\\nGame Over.\\n\")\n",
    "            print(\"Draw match !\")\n",
    "            break\n",
    "        # changing player turn\n",
    "        if turn == 'X':\n",
    "            turn = 'O'\n",
    "        else:\n",
    "            turn = 'X'\n",
    "    # replay the game\n",
    "    restart = input(\"Do you want to play Again?(y/n)\").lower()\n",
    "    if restart == \"y\":\n",
    "        for key in board_keys:\n",
    "            board[key] = \" \"\n",
    "        game()\n",
    "    elif restart == \"n\":\n",
    "        print(\"Thank you for choosing our game. \\n we wish see you soon again\")\n",
    "    else:\n",
    "        print(\"Invalid input\")\n",
    "\n",
    "\n",
    "if __name__ == \"__main__\":\n",
    "    print(\"Welcome to Tic - Tac - Toe playing program \\n written by Saeid Shahedi\")\n",
    "    # sample board\n",
    "    print(\"The below board is the sample which one you can locate the number :\")\n",
    "    print('--------------')\n",
    "    print('|' + \" 7\" + ' || ' + \"8\" + ' || ' + \"9\" + ' | ')\n",
    "    print('--------------')\n",
    "    print('|' + \" 4\" + ' || ' + \"5\" + ' || ' + \"6\" + ' | ')\n",
    "    print('--------------')\n",
    "    print('|' + \" 1\" + ' || ' + \"2\" + ' || ' + \"3\" + ' | ')\n",
    "    print('--------------')\n",
    "    game()\n"
   ]
  }
 ],
 "metadata": {
  "kernelspec": {
   "display_name": "Python 3",
   "language": "python",
   "name": "python3"
  },
  "language_info": {
   "codemirror_mode": {
    "name": "ipython",
    "version": 3
   },
   "file_extension": ".py",
   "mimetype": "text/x-python",
   "name": "python",
   "nbconvert_exporter": "python",
   "pygments_lexer": "ipython3",
   "version": "3.8.8"
  }
 },
 "nbformat": 4,
 "nbformat_minor": 4
}
